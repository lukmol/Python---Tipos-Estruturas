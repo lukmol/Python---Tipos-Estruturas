{
 "cells": [
  {
   "cell_type": "markdown",
   "metadata": {},
   "source": [
    " # Medidas de dispersão\n",
    "\n",
    "Hoje vamos ver na prática como calcular as medidas de dispersão utilizando a linguagem Python."
   ]
  },
  {
   "cell_type": "markdown",
   "metadata": {},
   "source": [
    "Primeiramente vamos fazer uso da biblioteca numpy.random para gerar variáveis (pseudo) aleatórias normais (gaussianas).\n"
   ]
  },
  {
   "cell_type": "code",
   "execution_count": 62,
   "metadata": {},
   "outputs": [],
   "source": [
    "import numpy.random as np"
   ]
  },
  {
   "cell_type": "markdown",
   "metadata": {},
   "source": [
    "Vamos fixar uma semente antes de mais nada. Sementes servem para garantir a reprodução do experimento."
   ]
  },
  {
   "cell_type": "code",
   "execution_count": 63,
   "metadata": {},
   "outputs": [],
   "source": [
    "Vetor_gaussianas = np.standard_normal(10)"
   ]
  },
  {
   "cell_type": "markdown",
   "metadata": {},
   "source": [
    "Geramos 10 variáveis independentes e identicamentes distribuídas e todas com média 0 e variância 1"
   ]
  },
  {
   "cell_type": "code",
   "execution_count": 64,
   "metadata": {},
   "outputs": [
    {
     "data": {
      "text/plain": [
       "array([ 0.17974436, -0.59567005,  0.89134647,  0.11057531,  1.48391812,\n",
       "       -0.71041419, -0.91609782, -1.85740152,  0.31581571,  0.45870673])"
      ]
     },
     "execution_count": 64,
     "metadata": {},
     "output_type": "execute_result"
    }
   ],
   "source": [
    "Vetor_gaussianas"
   ]
  },
  {
   "cell_type": "markdown",
   "metadata": {},
   "source": [
    "Uma variável aletória normal tem como parâmetros a média e a variância. Como estamos interessados nesta última vamos calcular qual a variância amostral para o nosso experimento."
   ]
  },
  {
   "cell_type": "code",
   "execution_count": 65,
   "metadata": {},
   "outputs": [
    {
     "data": {
      "text/plain": [
       "0.9694781848250652"
      ]
     },
     "execution_count": 65,
     "metadata": {},
     "output_type": "execute_result"
    }
   ],
   "source": [
    "import statistics as stats\n",
    "stats.stdev(Vetor_gaussianas)"
   ]
  },
  {
   "cell_type": "markdown",
   "metadata": {},
   "source": [
    "O que é um resultado ainda distante de 1, concordas?\n",
    "Que tal aumentarmos o número de observações na amostra?!\n"
   ]
  },
  {
   "cell_type": "code",
   "execution_count": 66,
   "metadata": {},
   "outputs": [],
   "source": [
    "Vetor_gaussianas_maior = np.standard_normal(50)"
   ]
  },
  {
   "cell_type": "code",
   "execution_count": 67,
   "metadata": {},
   "outputs": [],
   "source": [
    "Vetor_gaussianas_maior_maior = np.standard_normal(500)"
   ]
  },
  {
   "cell_type": "code",
   "execution_count": 68,
   "metadata": {},
   "outputs": [],
   "source": [
    "Vetor_gaussianas_maior_maior_maior = np.standard_normal(5000)"
   ]
  },
  {
   "cell_type": "markdown",
   "metadata": {},
   "source": [
    "Agora vamos ver em quais amostras ficam com o desvio padrão  mais próximo a 1:"
   ]
  },
  {
   "cell_type": "code",
   "execution_count": 69,
   "metadata": {},
   "outputs": [
    {
     "data": {
      "text/plain": [
       "(0.009430676266611426, 0.01538661073201164, 0.012150946841922972)"
      ]
     },
     "execution_count": 69,
     "metadata": {},
     "output_type": "execute_result"
    }
   ],
   "source": [
    "abs(stats.stdev(Vetor_gaussianas_maior)-1) , abs(stats.stdev(Vetor_gaussianas_maior_maior)-1),abs(stats.stdev(Vetor_gaussianas_maior_maior_maior)-1)"
   ]
  },
  {
   "cell_type": "markdown",
   "metadata": {},
   "source": [
    "Note como o desvio padrão fica menor à medida que o o tamanho amostral cresce. Isto é explicado por resultados clássicos da teoria das probabilidades, que vamos abordar em posts futuros aqui no blog."
   ]
  },
  {
   "cell_type": "markdown",
   "metadata": {},
   "source": [
    "Por hora é isto, pessoal! Até a próxima"
   ]
  },
  {
   "cell_type": "code",
   "execution_count": null,
   "metadata": {},
   "outputs": [],
   "source": []
  }
 ],
 "metadata": {
  "kernelspec": {
   "display_name": "Python 3",
   "language": "python",
   "name": "python3"
  },
  "language_info": {
   "codemirror_mode": {
    "name": "ipython",
    "version": 3
   },
   "file_extension": ".py",
   "mimetype": "text/x-python",
   "name": "python",
   "nbconvert_exporter": "python",
   "pygments_lexer": "ipython3",
   "version": "3.8.5"
  }
 },
 "nbformat": 4,
 "nbformat_minor": 4
}
