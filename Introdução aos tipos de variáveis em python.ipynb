{
 "cells": [
  {
   "cell_type": "markdown",
   "metadata": {},
   "source": [
    "# Introdução ao Python\n",
    "## Lucas Miranda\n",
    "### email: lucmoleconomista@gmail.com"
   ]
  },
  {
   "cell_type": "markdown",
   "metadata": {},
   "source": [
    "Declaração e tipos de variáveis em Python:  "
   ]
  },
  {
   "cell_type": "markdown",
   "metadata": {},
   "source": [
    "No estudo de uma nova linguaguem de programação é necessário saber realizar declarações de variáveis e também quais os tipos de destas que são suportados pela linguagem. Variáveis são objetos armazenados na memória em quanto  o programa é executado.  Na linguagem Python temos os tipos a seguir:"
   ]
  },
  {
   "cell_type": "code",
   "execution_count": 12,
   "metadata": {},
   "outputs": [
    {
     "data": {
      "text/plain": [
       "float"
      ]
     },
     "execution_count": 12,
     "metadata": {},
     "output_type": "execute_result"
    }
   ],
   "source": [
    "x1 = 23.75\n",
    "type(x1)"
   ]
  },
  {
   "cell_type": "code",
   "execution_count": 13,
   "metadata": {},
   "outputs": [
    {
     "data": {
      "text/plain": [
       "str"
      ]
     },
     "execution_count": 13,
     "metadata": {},
     "output_type": "execute_result"
    }
   ],
   "source": [
    "x2 = 'OLÁ MUNDO'\n",
    "type(x2)"
   ]
  },
  {
   "cell_type": "code",
   "execution_count": 14,
   "metadata": {},
   "outputs": [
    {
     "data": {
      "text/plain": [
       "str"
      ]
     },
     "execution_count": 14,
     "metadata": {},
     "output_type": "execute_result"
    }
   ],
   "source": [
    "x3 = \"OLÁ MUNDO\"\n",
    "type(x3)"
   ]
  },
  {
   "cell_type": "code",
   "execution_count": 11,
   "metadata": {},
   "outputs": [
    {
     "data": {
      "text/plain": [
       "True"
      ]
     },
     "execution_count": 11,
     "metadata": {},
     "output_type": "execute_result"
    }
   ],
   "source": [
    "x3 == x2"
   ]
  },
  {
   "cell_type": "code",
   "execution_count": 23,
   "metadata": {},
   "outputs": [],
   "source": [
    "x4  = True\n",
    "x5 = False"
   ]
  },
  {
   "cell_type": "code",
   "execution_count": 24,
   "metadata": {},
   "outputs": [
    {
     "data": {
      "text/plain": [
       "bool"
      ]
     },
     "execution_count": 24,
     "metadata": {},
     "output_type": "execute_result"
    }
   ],
   "source": [
    "type(x4)"
   ]
  },
  {
   "cell_type": "code",
   "execution_count": 25,
   "metadata": {},
   "outputs": [
    {
     "data": {
      "text/plain": [
       "bool"
      ]
     },
     "execution_count": 25,
     "metadata": {},
     "output_type": "execute_result"
    }
   ],
   "source": [
    "type(x5)"
   ]
  },
  {
   "cell_type": "markdown",
   "metadata": {},
   "source": [
    "O Python é case sensitive:"
   ]
  },
  {
   "cell_type": "code",
   "execution_count": 43,
   "metadata": {},
   "outputs": [
    {
     "name": "stdout",
     "output_type": "stream",
     "text": [
      "Note que no Python as duas não são iguais: True\n"
     ]
    }
   ],
   "source": [
    "y = 10; Y=11;\n",
    "\n",
    "print('Note que no Python as duas não são iguais:', y!=Y)"
   ]
  },
  {
   "cell_type": "markdown",
   "metadata": {},
   "source": [
    "Entrada de valores no Python fazemos utilizando a função 'input()'"
   ]
  },
  {
   "cell_type": "code",
   "execution_count": 44,
   "metadata": {},
   "outputs": [
    {
     "name": "stdout",
     "output_type": "stream",
     "text": [
      "Digite algum valor: 3\n"
     ]
    }
   ],
   "source": [
    "entrada = input('Digite algum valor: ')"
   ]
  },
  {
   "cell_type": "code",
   "execution_count": 45,
   "metadata": {},
   "outputs": [
    {
     "data": {
      "text/plain": [
       "'3'"
      ]
     },
     "execution_count": 45,
     "metadata": {},
     "output_type": "execute_result"
    }
   ],
   "source": [
    "entrada"
   ]
  },
  {
   "cell_type": "code",
   "execution_count": 46,
   "metadata": {},
   "outputs": [
    {
     "data": {
      "text/plain": [
       "str"
      ]
     },
     "execution_count": 46,
     "metadata": {},
     "output_type": "execute_result"
    }
   ],
   "source": [
    "type(entrada)"
   ]
  },
  {
   "cell_type": "markdown",
   "metadata": {},
   "source": [
    "Vamos converter o tipo para inteiro:"
   ]
  },
  {
   "cell_type": "code",
   "execution_count": 50,
   "metadata": {},
   "outputs": [],
   "source": [
    "entrada =  int(entrada)"
   ]
  },
  {
   "cell_type": "code",
   "execution_count": 51,
   "metadata": {},
   "outputs": [
    {
     "data": {
      "text/plain": [
       "int"
      ]
     },
     "execution_count": 51,
     "metadata": {},
     "output_type": "execute_result"
    }
   ],
   "source": [
    "type(entrada)"
   ]
  },
  {
   "cell_type": "markdown",
   "metadata": {},
   "source": [
    "Ou para float que podemos fazer das duas formas:\n"
   ]
  },
  {
   "cell_type": "code",
   "execution_count": 55,
   "metadata": {},
   "outputs": [
    {
     "data": {
      "text/plain": [
       "float"
      ]
     },
     "execution_count": 55,
     "metadata": {},
     "output_type": "execute_result"
    }
   ],
   "source": [
    "# usando float() mesmo\n",
    "type(float(entrada))"
   ]
  },
  {
   "cell_type": "code",
   "execution_count": 59,
   "metadata": {},
   "outputs": [
    {
     "data": {
      "text/plain": [
       "float"
      ]
     },
     "execution_count": 59,
     "metadata": {},
     "output_type": "execute_result"
    }
   ],
   "source": [
    "# ou dividindo 1.0 que a conversao sera automatica\n",
    "\n",
    "entrada = entrada/1.0\n",
    "\n",
    "type(entrada)\n"
   ]
  },
  {
   "cell_type": "markdown",
   "metadata": {},
   "source": [
    "# Estruturas de Decisão"
   ]
  },
  {
   "cell_type": "code",
   "execution_count": 20,
   "metadata": {},
   "outputs": [
    {
     "name": "stdout",
     "output_type": "stream",
     "text": [
      " Qual o ano do seu nascimento ?2015\n"
     ]
    }
   ],
   "source": [
    "ano_nasc = int(input(\" Qual o ano do seu nascimento ?\"))\n",
    "\n"
   ]
  },
  {
   "cell_type": "code",
   "execution_count": 21,
   "metadata": {},
   "outputs": [],
   "source": [
    "from datetime import date #importando biblioteca para lidar com datas\n",
    "ano = date.today()"
   ]
  },
  {
   "cell_type": "code",
   "execution_count": 22,
   "metadata": {},
   "outputs": [],
   "source": [
    "idade = ano.year - (ano_nasc)"
   ]
  },
  {
   "cell_type": "code",
   "execution_count": 23,
   "metadata": {},
   "outputs": [
    {
     "name": "stdout",
     "output_type": "stream",
     "text": [
      "Apenas mais um(a) jovem latin@ american@\n"
     ]
    }
   ],
   "source": [
    "if idade<30:\n",
    "    print('Apenas mais um(a) jovem latin@ american@')\n",
    "elif idade>=30 and idade<60:\n",
    "    print('Um(a) Adulto')\n",
    "else:\n",
    "    print('Na melhor idade')\n",
    "        "
   ]
  },
  {
   "cell_type": "markdown",
   "metadata": {},
   "source": [
    "Laços no Python:"
   ]
  },
  {
   "cell_type": "code",
   "execution_count": 33,
   "metadata": {},
   "outputs": [
    {
     "name": "stdout",
     "output_type": "stream",
     "text": [
      "1.0\n",
      "3.0\n",
      "6.0\n",
      "10.0\n",
      "15.0\n",
      "21.0\n",
      "28.0\n",
      "36.0\n",
      "45.0\n",
      "55.0\n",
      "66.0\n",
      "78.0\n",
      "91.0\n",
      "105.0\n",
      "120.0\n",
      "136.0\n",
      "153.0\n",
      "171.0\n",
      "190.0\n"
     ]
    }
   ],
   "source": [
    "i = 1\n",
    "while i <20:\n",
    "    print((i*(i+1))/2)\n",
    "    i +=1"
   ]
  },
  {
   "cell_type": "code",
   "execution_count": 57,
   "metadata": {},
   "outputs": [],
   "source": [
    "frase_legal = 'O prof. Lucas é legal, Ele gosta tanto do R quanto do Python'\n",
    "size_frase = len(frase_legal)\n"
   ]
  },
  {
   "cell_type": "markdown",
   "metadata": {},
   "source": [
    "Acessando cada elemento de uma string com estrutura de repetição"
   ]
  },
  {
   "cell_type": "code",
   "execution_count": 58,
   "metadata": {},
   "outputs": [
    {
     "name": "stdout",
     "output_type": "stream",
     "text": [
      "O\n",
      " \n",
      "p\n",
      "r\n",
      "o\n",
      "f\n",
      ".\n",
      " \n",
      "L\n",
      "u\n",
      "c\n",
      "a\n",
      "s\n",
      " \n",
      "é\n",
      " \n",
      "l\n",
      "e\n",
      "g\n",
      "a\n",
      "l\n",
      ",\n",
      " \n",
      "E\n",
      "l\n",
      "e\n",
      " \n",
      "g\n",
      "o\n",
      "s\n",
      "t\n",
      "a\n",
      " \n",
      "t\n",
      "a\n",
      "n\n",
      "t\n",
      "o\n",
      " \n",
      "d\n",
      "o\n",
      " \n",
      "R\n",
      " \n",
      "q\n",
      "u\n",
      "a\n",
      "n\n",
      "d\n",
      "o\n",
      " \n",
      "d\n",
      "o\n",
      " \n",
      "P\n",
      "y\n",
      "t\n",
      "h\n",
      "o\n",
      "n\n"
     ]
    }
   ],
   "source": [
    "j = 0\n",
    "for j in range(0,size_frase):\n",
    "    print(frase_legal[j])"
   ]
  },
  {
   "cell_type": "markdown",
   "metadata": {},
   "source": [
    "Usando o controle de fluxo e também laços para remoção de espaços"
   ]
  },
  {
   "cell_type": "code",
   "execution_count": 77,
   "metadata": {},
   "outputs": [
    {
     "name": "stdout",
     "output_type": "stream",
     "text": [
      "O\n",
      "p\n",
      "r\n",
      "o\n",
      "f\n",
      ".\n",
      "L\n",
      "u\n",
      "c\n",
      "a\n",
      "s\n",
      "é\n",
      "l\n",
      "e\n",
      "g\n",
      "a\n",
      "l\n",
      ",\n",
      "E\n",
      "l\n",
      "e\n",
      "g\n",
      "o\n",
      "s\n",
      "t\n",
      "a\n",
      "t\n",
      "a\n",
      "n\n",
      "t\n",
      "o\n",
      "d\n",
      "o\n",
      "R\n",
      "q\n",
      "u\n",
      "a\n",
      "n\n",
      "d\n",
      "o\n",
      "d\n",
      "o\n",
      "P\n",
      "y\n",
      "t\n",
      "h\n",
      "o\n",
      "n\n"
     ]
    }
   ],
   "source": [
    "k = 0\n",
    "for k in range(0,size_frase):\n",
    "    if frase_legal[k] != \" \":\n",
    "        print(frase_legal[k])"
   ]
  },
  {
   "cell_type": "code",
   "execution_count": null,
   "metadata": {},
   "outputs": [],
   "source": []
  }
 ],
 "metadata": {
  "kernelspec": {
   "display_name": "Python 3",
   "language": "python",
   "name": "python3"
  },
  "language_info": {
   "codemirror_mode": {
    "name": "ipython",
    "version": 3
   },
   "file_extension": ".py",
   "mimetype": "text/x-python",
   "name": "python",
   "nbconvert_exporter": "python",
   "pygments_lexer": "ipython3",
   "version": "3.8.3"
  }
 },
 "nbformat": 4,
 "nbformat_minor": 4
}
