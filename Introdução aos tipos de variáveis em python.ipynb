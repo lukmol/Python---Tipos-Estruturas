{
 "cells": [
  {
   "cell_type": "markdown",
   "metadata": {},
   "source": [
    "# Introdução ao Python\n",
    "## Lucas Miranda\n",
    "### email: lucmoleconomista@gmail.com"
   ]
  },
  {
   "cell_type": "markdown",
   "metadata": {},
   "source": [
    "Declaração e tipos de variáveis em Python:  "
   ]
  },
  {
   "cell_type": "markdown",
   "metadata": {},
   "source": [
    "No estudo de uma nova linguaguem de programação é necessário saber realizar declarações de variáveis e também quais os tipos de destas que são suportados pela linguagem. Variáveis são objetos armazenados na memória em quanto  o programa é executado.  Na linguagem Python temos os tipos a seguir:"
   ]
  },
  {
   "cell_type": "code",
   "execution_count": 1,
   "metadata": {},
   "outputs": [
    {
     "data": {
      "text/plain": [
       "float"
      ]
     },
     "execution_count": 1,
     "metadata": {},
     "output_type": "execute_result"
    }
   ],
   "source": [
    "x1 = 23.75\n",
    "type(x1)"
   ]
  },
  {
   "cell_type": "code",
   "execution_count": 2,
   "metadata": {},
   "outputs": [
    {
     "data": {
      "text/plain": [
       "str"
      ]
     },
     "execution_count": 2,
     "metadata": {},
     "output_type": "execute_result"
    }
   ],
   "source": [
    "x2 = 'OLÁ MUNDO'\n",
    "type(x2)"
   ]
  },
  {
   "cell_type": "code",
   "execution_count": 3,
   "metadata": {},
   "outputs": [
    {
     "data": {
      "text/plain": [
       "str"
      ]
     },
     "execution_count": 3,
     "metadata": {},
     "output_type": "execute_result"
    }
   ],
   "source": [
    "x3 = \"OLÁ MUNDO\"\n",
    "type(x3)"
   ]
  },
  {
   "cell_type": "code",
   "execution_count": 4,
   "metadata": {},
   "outputs": [
    {
     "data": {
      "text/plain": [
       "True"
      ]
     },
     "execution_count": 4,
     "metadata": {},
     "output_type": "execute_result"
    }
   ],
   "source": [
    "x3 == x2"
   ]
  },
  {
   "cell_type": "code",
   "execution_count": 5,
   "metadata": {},
   "outputs": [],
   "source": [
    "x4  = True\n",
    "x5 = False"
   ]
  },
  {
   "cell_type": "code",
   "execution_count": 6,
   "metadata": {},
   "outputs": [
    {
     "data": {
      "text/plain": [
       "bool"
      ]
     },
     "execution_count": 6,
     "metadata": {},
     "output_type": "execute_result"
    }
   ],
   "source": [
    "type(x4)"
   ]
  },
  {
   "cell_type": "code",
   "execution_count": 7,
   "metadata": {},
   "outputs": [
    {
     "data": {
      "text/plain": [
       "bool"
      ]
     },
     "execution_count": 7,
     "metadata": {},
     "output_type": "execute_result"
    }
   ],
   "source": [
    "type(x5)"
   ]
  },
  {
   "cell_type": "markdown",
   "metadata": {},
   "source": [
    "O Python é case sensitive:"
   ]
  },
  {
   "cell_type": "code",
   "execution_count": 8,
   "metadata": {},
   "outputs": [
    {
     "name": "stdout",
     "output_type": "stream",
     "text": [
      "Note que no Python as duas não são iguais: True\n"
     ]
    }
   ],
   "source": [
    "y = 10; Y=11;\n",
    "\n",
    "print('Note que no Python as duas não são iguais:', y!=Y)"
   ]
  },
  {
   "cell_type": "markdown",
   "metadata": {},
   "source": [
    "Entrada de valores no Python fazemos utilizando a função 'input()'"
   ]
  },
  {
   "cell_type": "code",
   "execution_count": 27,
   "metadata": {},
   "outputs": [
    {
     "name": "stdout",
     "output_type": "stream",
     "text": [
      "Digite algum número: 12\n"
     ]
    }
   ],
   "source": [
    "entrada = input('Digite algum número: ')"
   ]
  },
  {
   "cell_type": "code",
   "execution_count": 28,
   "metadata": {},
   "outputs": [
    {
     "data": {
      "text/plain": [
       "'12'"
      ]
     },
     "execution_count": 28,
     "metadata": {},
     "output_type": "execute_result"
    }
   ],
   "source": [
    "entrada"
   ]
  },
  {
   "cell_type": "code",
   "execution_count": 29,
   "metadata": {},
   "outputs": [
    {
     "data": {
      "text/plain": [
       "str"
      ]
     },
     "execution_count": 29,
     "metadata": {},
     "output_type": "execute_result"
    }
   ],
   "source": [
    "type(entrada)"
   ]
  },
  {
   "cell_type": "markdown",
   "metadata": {},
   "source": [
    "Vamos converter o tipo para inteiro:"
   ]
  },
  {
   "cell_type": "code",
   "execution_count": 30,
   "metadata": {},
   "outputs": [],
   "source": [
    "if entrada != '':\n",
    "    entrada = int(entrada)"
   ]
  },
  {
   "cell_type": "code",
   "execution_count": 31,
   "metadata": {},
   "outputs": [
    {
     "data": {
      "text/plain": [
       "int"
      ]
     },
     "execution_count": 31,
     "metadata": {},
     "output_type": "execute_result"
    }
   ],
   "source": [
    "type(entrada)"
   ]
  },
  {
   "cell_type": "markdown",
   "metadata": {},
   "source": [
    "Ou para float que podemos fazer das duas formas:\n"
   ]
  },
  {
   "cell_type": "code",
   "execution_count": 32,
   "metadata": {},
   "outputs": [
    {
     "data": {
      "text/plain": [
       "float"
      ]
     },
     "execution_count": 32,
     "metadata": {},
     "output_type": "execute_result"
    }
   ],
   "source": [
    "# usando float() mesmo\n",
    "type(float(entrada))"
   ]
  },
  {
   "cell_type": "code",
   "execution_count": 33,
   "metadata": {},
   "outputs": [
    {
     "data": {
      "text/plain": [
       "float"
      ]
     },
     "execution_count": 33,
     "metadata": {},
     "output_type": "execute_result"
    }
   ],
   "source": [
    "# ou dividindo 1.0 que a conversao sera automatica\n",
    "\n",
    "entrada = entrada/1.0\n",
    "\n",
    "type(entrada)\n"
   ]
  },
  {
   "cell_type": "markdown",
   "metadata": {},
   "source": [
    "# Estruturas de Decisão"
   ]
  },
  {
   "cell_type": "code",
   "execution_count": 34,
   "metadata": {},
   "outputs": [
    {
     "name": "stdout",
     "output_type": "stream",
     "text": [
      " Qual o ano do seu nascimento ?1921\n"
     ]
    }
   ],
   "source": [
    "ano_nasc = int(input(\" Qual o ano do seu nascimento ?\"))\n",
    "\n"
   ]
  },
  {
   "cell_type": "code",
   "execution_count": 35,
   "metadata": {},
   "outputs": [],
   "source": [
    "from datetime import date #importando biblioteca para lidar com datas\n",
    "ano = date.today()"
   ]
  },
  {
   "cell_type": "code",
   "execution_count": 36,
   "metadata": {},
   "outputs": [],
   "source": [
    "idade = ano.year - (ano_nasc)"
   ]
  },
  {
   "cell_type": "code",
   "execution_count": 37,
   "metadata": {},
   "outputs": [
    {
     "name": "stdout",
     "output_type": "stream",
     "text": [
      "Na melhor idade\n"
     ]
    }
   ],
   "source": [
    "if idade<30:\n",
    "    print('Apenas mais um(a) jovem latin@ american@')\n",
    "elif idade>=30 and idade<60:\n",
    "    print('Um(a) Adulto')\n",
    "else:\n",
    "    print('Na melhor idade')\n",
    "        "
   ]
  },
  {
   "cell_type": "markdown",
   "metadata": {},
   "source": [
    "Laços no Python:"
   ]
  },
  {
   "cell_type": "code",
   "execution_count": 38,
   "metadata": {},
   "outputs": [
    {
     "name": "stdout",
     "output_type": "stream",
     "text": [
      "1.0\n",
      "3.0\n",
      "6.0\n",
      "10.0\n",
      "15.0\n",
      "21.0\n",
      "28.0\n",
      "36.0\n",
      "45.0\n",
      "55.0\n",
      "66.0\n",
      "78.0\n",
      "91.0\n",
      "105.0\n",
      "120.0\n",
      "136.0\n",
      "153.0\n",
      "171.0\n",
      "190.0\n"
     ]
    }
   ],
   "source": [
    "i = 1\n",
    "while i <20:\n",
    "    print((i*(i+1))/2)\n",
    "    i +=1"
   ]
  },
  {
   "cell_type": "code",
   "execution_count": 39,
   "metadata": {},
   "outputs": [],
   "source": [
    "frase_legal = 'O prof. Lucas é legal, Ele gosta tanto do R quanto do Python'\n",
    "size_frase = len(frase_legal)\n"
   ]
  },
  {
   "cell_type": "markdown",
   "metadata": {},
   "source": [
    "Acessando cada elemento de uma string com estrutura de repetição"
   ]
  },
  {
   "cell_type": "code",
   "execution_count": 40,
   "metadata": {},
   "outputs": [
    {
     "name": "stdout",
     "output_type": "stream",
     "text": [
      "O\n",
      " \n",
      "p\n",
      "r\n",
      "o\n",
      "f\n",
      ".\n",
      " \n",
      "L\n",
      "u\n",
      "c\n",
      "a\n",
      "s\n",
      " \n",
      "é\n",
      " \n",
      "l\n",
      "e\n",
      "g\n",
      "a\n",
      "l\n",
      ",\n",
      " \n",
      "E\n",
      "l\n",
      "e\n",
      " \n",
      "g\n",
      "o\n",
      "s\n",
      "t\n",
      "a\n",
      " \n",
      "t\n",
      "a\n",
      "n\n",
      "t\n",
      "o\n",
      " \n",
      "d\n",
      "o\n",
      " \n",
      "R\n",
      " \n",
      "q\n",
      "u\n",
      "a\n",
      "n\n",
      "t\n",
      "o\n",
      " \n",
      "d\n",
      "o\n",
      " \n",
      "P\n",
      "y\n",
      "t\n",
      "h\n",
      "o\n",
      "n\n"
     ]
    }
   ],
   "source": [
    "j = 0\n",
    "for j in range(0,size_frase):\n",
    "    print(frase_legal[j])"
   ]
  },
  {
   "cell_type": "markdown",
   "metadata": {},
   "source": [
    "Usando o controle de fluxo e também laços para remoção de espaços"
   ]
  },
  {
   "cell_type": "code",
   "execution_count": 41,
   "metadata": {},
   "outputs": [
    {
     "name": "stdout",
     "output_type": "stream",
     "text": [
      "O\n",
      "p\n",
      "r\n",
      "o\n",
      "f\n",
      ".\n",
      "L\n",
      "u\n",
      "c\n",
      "a\n",
      "s\n",
      "é\n",
      "l\n",
      "e\n",
      "g\n",
      "a\n",
      "l\n",
      ",\n",
      "E\n",
      "l\n",
      "e\n",
      "g\n",
      "o\n",
      "s\n",
      "t\n",
      "a\n",
      "t\n",
      "a\n",
      "n\n",
      "t\n",
      "o\n",
      "d\n",
      "o\n",
      "R\n",
      "q\n",
      "u\n",
      "a\n",
      "n\n",
      "t\n",
      "o\n",
      "d\n",
      "o\n",
      "P\n",
      "y\n",
      "t\n",
      "h\n",
      "o\n",
      "n\n"
     ]
    }
   ],
   "source": [
    "k = 0\n",
    "for k in range(0,size_frase):\n",
    "    if frase_legal[k] != \" \":\n",
    "        print(frase_legal[k])"
   ]
  },
  {
   "cell_type": "markdown",
   "metadata": {},
   "source": [
    "Uma lista no python armazena objetos que podem não ser do mesmo tipo:"
   ]
  },
  {
   "cell_type": "code",
   "execution_count": 59,
   "metadata": {},
   "outputs": [],
   "source": [
    "minha_primeira_lista = [\"python\",2,2.0,True]"
   ]
  },
  {
   "cell_type": "code",
   "execution_count": 60,
   "metadata": {},
   "outputs": [
    {
     "data": {
      "text/plain": [
       "str"
      ]
     },
     "execution_count": 60,
     "metadata": {},
     "output_type": "execute_result"
    }
   ],
   "source": [
    "type(minha_primeira_lista[0])"
   ]
  },
  {
   "cell_type": "code",
   "execution_count": 61,
   "metadata": {},
   "outputs": [
    {
     "data": {
      "text/plain": [
       "int"
      ]
     },
     "execution_count": 61,
     "metadata": {},
     "output_type": "execute_result"
    }
   ],
   "source": [
    "type(minha_primeira_lista[1])"
   ]
  },
  {
   "cell_type": "code",
   "execution_count": 62,
   "metadata": {},
   "outputs": [
    {
     "data": {
      "text/plain": [
       "float"
      ]
     },
     "execution_count": 62,
     "metadata": {},
     "output_type": "execute_result"
    }
   ],
   "source": [
    "type(minha_primeira_lista[2])"
   ]
  },
  {
   "cell_type": "code",
   "execution_count": 63,
   "metadata": {},
   "outputs": [],
   "source": [
    "  minha_primeira_lista.append(\"tinha esquecido algo\") #acrescentando um elemnto a lista"
   ]
  },
  {
   "cell_type": "code",
   "execution_count": 64,
   "metadata": {},
   "outputs": [
    {
     "data": {
      "text/plain": [
       "['python', 2, 2.0, True, 'tinha esquecido algo']"
      ]
     },
     "execution_count": 64,
     "metadata": {},
     "output_type": "execute_result"
    }
   ],
   "source": [
    "minha_primeira_lista"
   ]
  },
  {
   "cell_type": "code",
   "execution_count": 68,
   "metadata": {},
   "outputs": [
    {
     "data": {
      "text/plain": [
       "5"
      ]
     },
     "execution_count": 68,
     "metadata": {},
     "output_type": "execute_result"
    }
   ],
   "source": [
    "# o comprimento da lista\n",
    "len(minha_primeira_lista)"
   ]
  },
  {
   "cell_type": "markdown",
   "metadata": {},
   "source": [
    "Vamos introduzir como se criam funções no Python"
   ]
  },
  {
   "cell_type": "code",
   "execution_count": 87,
   "metadata": {},
   "outputs": [],
   "source": [
    "def media(x):\n",
    "    return(sum(x)/len(x))"
   ]
  },
  {
   "cell_type": "code",
   "execution_count": 88,
   "metadata": {
    "scrolled": true
   },
   "outputs": [
    {
     "data": {
      "text/plain": [
       "array([-9.39309975e-01,  2.38674033e+00, -3.79315779e-01, -8.23507562e-01,\n",
       "       -9.40875366e-01, -2.15633012e+00,  5.87599094e-02, -1.57556852e-01,\n",
       "        5.36358142e-01, -7.47355760e-02,  2.15260974e-02,  1.69490112e+00,\n",
       "       -5.80743021e-02,  1.43826003e-01, -7.18780918e-01, -9.34031587e-01,\n",
       "       -6.56376090e-01,  8.81405997e-01,  7.30421343e-01, -8.57552528e-01,\n",
       "        9.52380480e-01, -1.68944106e+00, -5.68792125e-01,  3.23094828e-01,\n",
       "       -1.81393482e+00, -7.74110400e-01,  3.98026591e-02,  5.91774341e-01,\n",
       "        1.46038149e+00,  7.41778126e-01,  2.89182662e-01,  8.22673378e-01,\n",
       "       -1.72718771e-01, -1.44622994e+00, -1.10180387e+00,  7.76644355e-01,\n",
       "       -6.28666550e-01, -1.75170399e-01, -9.96158754e-01,  1.10827859e+00,\n",
       "        2.88703617e+00, -1.91164766e+00, -9.57569666e-02,  1.96133276e+00,\n",
       "       -1.48265683e-01,  3.97270177e-01, -1.87302126e-01,  2.16162924e+00,\n",
       "        9.46455730e-01, -1.89665123e+00, -1.01224543e+00, -1.35351209e+00,\n",
       "       -1.80774845e+00,  1.32645243e+00, -1.71278070e+00,  1.90817254e+00,\n",
       "       -1.01942732e+00, -1.46826213e+00,  4.06794801e-01, -1.19243410e+00,\n",
       "       -8.01860947e-01, -5.51608312e-01,  6.59588740e-01,  1.15995439e+00,\n",
       "        6.44225689e-04,  4.17444032e-01,  4.69370037e-01,  9.75441424e-01,\n",
       "       -6.45240608e-01,  1.49711480e+00,  1.26824625e-01, -8.47324705e-01,\n",
       "        1.30790306e+00,  2.06194255e+00,  1.71849606e-01,  4.28012652e-03,\n",
       "       -2.35865697e-01,  9.30989838e-01,  6.38794037e-02, -5.88906187e-01,\n",
       "       -2.23238096e+00,  4.57509413e-01,  5.86483169e-01, -1.06481756e+00,\n",
       "       -4.19618601e-01, -5.88896800e-01, -7.44808644e-01, -5.13700009e-01,\n",
       "        1.72951456e+00, -3.94633336e-01, -1.30717989e+00,  6.59307847e-02,\n",
       "        1.25556443e+00,  1.24223395e+00,  2.64331862e-01,  1.01597732e+00,\n",
       "        2.34713381e-01, -5.88817423e-01, -4.28752867e-01, -1.38671868e+00])"
      ]
     },
     "execution_count": 88,
     "metadata": {},
     "output_type": "execute_result"
    }
   ],
   "source": [
    "import numpy as np\n",
    "meu_vetor = np.random.normal(size=100)\n",
    "meu_vetor"
   ]
  },
  {
   "cell_type": "code",
   "execution_count": 89,
   "metadata": {},
   "outputs": [
    {
     "data": {
      "text/plain": [
       "-0.029560790519954052"
      ]
     },
     "execution_count": 89,
     "metadata": {},
     "output_type": "execute_result"
    }
   ],
   "source": [
    "media(meu_vetor)"
   ]
  },
  {
   "cell_type": "code",
   "execution_count": 92,
   "metadata": {},
   "outputs": [
    {
     "data": {
      "text/plain": [
       "-0.0296"
      ]
     },
     "execution_count": 92,
     "metadata": {},
     "output_type": "execute_result"
    }
   ],
   "source": [
    "round(media(meu_vetor),4)"
   ]
  },
  {
   "cell_type": "code",
   "execution_count": null,
   "metadata": {},
   "outputs": [],
   "source": []
  }
 ],
 "metadata": {
  "kernelspec": {
   "display_name": "Python 3",
   "language": "python",
   "name": "python3"
  },
  "language_info": {
   "codemirror_mode": {
    "name": "ipython",
    "version": 3
   },
   "file_extension": ".py",
   "mimetype": "text/x-python",
   "name": "python",
   "nbconvert_exporter": "python",
   "pygments_lexer": "ipython3",
   "version": "3.8.3"
  }
 },
 "nbformat": 4,
 "nbformat_minor": 4
}
